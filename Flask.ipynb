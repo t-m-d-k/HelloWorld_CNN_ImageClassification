{
 "cells": [
  {
   "cell_type": "code",
   "execution_count": null,
   "metadata": {},
   "outputs": [
    {
     "name": "stdout",
     "output_type": "stream",
     "text": [
      " * Serving Flask app \"__main__\" (lazy loading)\n",
      " * Environment: production\n",
      "\u001b[31m   WARNING: This is a development server. Do not use it in a production deployment.\u001b[0m\n",
      "\u001b[2m   Use a production WSGI server instead.\u001b[0m\n",
      " * Debug mode: off\n"
     ]
    },
    {
     "name": "stderr",
     "output_type": "stream",
     "text": [
      " * Running on http://127.0.0.1:5000/ (Press CTRL+C to quit)\n",
      "127.0.0.1 - - [04/May/2022 20:26:14] \"\u001b[37mGET / HTTP/1.1\u001b[0m\" 200 -\n",
      "127.0.0.1 - - [04/May/2022 20:26:26] \"\u001b[37mPOST /submit HTTP/1.1\u001b[0m\" 200 -\n",
      "127.0.0.1 - - [04/May/2022 20:26:26] \"\u001b[37mGET /static/download%20(1).jpg HTTP/1.1\u001b[0m\" 200 -\n"
     ]
    },
    {
     "name": "stdout",
     "output_type": "stream",
     "text": [
      "inside function\n",
      "[[0.99896336 0.00103668]]\n",
      "[[1 0]]\n"
     ]
    }
   ],
   "source": [
    "from flask import Flask, render_template, request\n",
    "from keras.models import load_model\n",
    "from keras.preprocessing import image\n",
    "import numpy as np\n",
    "\n",
    "app = Flask(__name__)\n",
    "\n",
    "dic = {0 : 'Car', 1 : 'cat'}\n",
    "\n",
    "threshold  = 0.5\n",
    "model = load_model('model.h5')\n",
    "\n",
    "model.make_predict_function()\n",
    "\n",
    "def predict_label(img_path):\n",
    "\tprint('inside function')\n",
    "\ti = image.load_img(img_path, target_size=(100,100))\n",
    "\ti = image.img_to_array(i)/255.0\n",
    "\ti = i.reshape(1, 100,100,3)\n",
    "\ty_pred = model.predict(i)\n",
    "\tprint(y_pred)\n",
    "\tp = np.where(y_pred > threshold, 1,0)\n",
    "\tif (p[0][0]) == 1 :\n",
    "\t\tlabel_pred = 0\n",
    "\telse:\n",
    "\t\tlabel_pred = 1\n",
    "\tprint((model.predict(i) > 0.5).astype(\"int32\"))\n",
    "\treturn dic[label_pred]\n",
    "\n",
    "\n",
    "# routes\n",
    "@app.route(\"/\", methods=['GET', 'POST'])\n",
    "def main():\n",
    "\treturn render_template(\"index.html\")\n",
    "\n",
    "@app.route(\"/about\")\n",
    "def about_page():\n",
    "\treturn \"Please subscribe  Artificial Intelligence Hub..!!!\"\n",
    "\n",
    "@app.route(\"/submit\", methods = ['GET', 'POST'])\n",
    "def get_output():\n",
    "\tif request.method == 'POST':\n",
    "\t\timg = request.files['my_image']\n",
    "\n",
    "\t\timg_path = \"static/\" + img.filename\t\n",
    "\t\timg.save(img_path)\n",
    "\n",
    "\t\tp = predict_label(img_path)\n",
    "\n",
    "\treturn render_template(\"index.html\", prediction = p, img_path = img_path)\n",
    "\n",
    "\n",
    "if __name__ =='__main__':\n",
    "\t#app.debug = True\n",
    "\tapp.run()\n"
   ]
  },
  {
   "cell_type": "code",
   "execution_count": null,
   "metadata": {},
   "outputs": [],
   "source": []
  }
 ],
 "metadata": {
  "kernelspec": {
   "display_name": "Python 3",
   "language": "python",
   "name": "python3"
  },
  "language_info": {
   "codemirror_mode": {
    "name": "ipython",
    "version": 3
   },
   "file_extension": ".py",
   "mimetype": "text/x-python",
   "name": "python",
   "nbconvert_exporter": "python",
   "pygments_lexer": "ipython3",
   "version": "3.7.6"
  }
 },
 "nbformat": 4,
 "nbformat_minor": 4
}
